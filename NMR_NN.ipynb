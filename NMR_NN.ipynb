{
 "cells": [
  {
   "cell_type": "code",
   "execution_count": 8,
   "metadata": {},
   "outputs": [],
   "source": [
    "import torch\n",
    "from torch.utils.data import DataLoader, Dataset\n",
    "import pandas as pd\n",
    "import torch.nn as nn"
   ]
  },
  {
   "cell_type": "code",
   "execution_count": 9,
   "metadata": {},
   "outputs": [
    {
     "data": {
      "text/plain": [
       "0"
      ]
     },
     "execution_count": 9,
     "metadata": {},
     "output_type": "execute_result"
    }
   ],
   "source": [
    "torch.cuda.current_device()"
   ]
  },
  {
   "cell_type": "code",
   "execution_count": 25,
   "metadata": {},
   "outputs": [],
   "source": [
    "\n",
    "dtype = torch.FloatTensor\n",
    "dtype = torch.cuda.FloatTensor \n"
   ]
  },
  {
   "cell_type": "markdown",
   "metadata": {},
   "source": [
    "### Creating a dataset class and a dataloader"
   ]
  },
  {
   "cell_type": "code",
   "execution_count": 12,
   "metadata": {},
   "outputs": [],
   "source": [
    "class NMR_Dataset(Dataset):\n",
    "    'Characterizes a dataset for PyTorch'\n",
    "    def __init__(self, file_path, target,transform=None):\n",
    "        'Initialization'\n",
    "        self.data = pd.read_csv(file_path)\n",
    "        self.features=[f for f in list(self.data) if \"feature\" in f]\n",
    "        self.transform = transform\n",
    "        self.target = \"target_\"+ target\n",
    "\n",
    "    def __len__(self):\n",
    "        'Denotes the total number of samples'\n",
    "        return len(self.data)\n",
    "\n",
    "    def __getitem__(self, index):\n",
    "        'Generates one sample of data'\n",
    "        # Select sample\n",
    "        X = self.data[self.features].iloc[index,:]\n",
    "        y = self.data[self.target][index]\n",
    "\n",
    "        return X.values, y"
   ]
  },
  {
   "cell_type": "code",
   "execution_count": 15,
   "metadata": {},
   "outputs": [],
   "source": [
    "bernie_data = NMR_Dataset(\"/home/samit/jupyter_projects/datasets/144-train.csv\",\"bernie\")\n",
    "bernie_loader = DataLoader(bernie_data, batch_size=8, shuffle=True)"
   ]
  },
  {
   "cell_type": "code",
   "execution_count": 16,
   "metadata": {},
   "outputs": [],
   "source": [
    "n_in, n_h, n_out, batch_size = 50, 5, 1, 128"
   ]
  },
  {
   "cell_type": "code",
   "execution_count": 18,
   "metadata": {},
   "outputs": [],
   "source": [
    "model = nn.Sequential(nn.Linear(n_in, n_h),\n",
    "                     nn.ReLU(),\n",
    "                     nn.Linear(n_h, n_out),\n",
    "                     nn.Sigmoid())"
   ]
  },
  {
   "cell_type": "code",
   "execution_count": 19,
   "metadata": {},
   "outputs": [
    {
     "data": {
      "text/plain": [
       "Sequential(\n",
       "  (0): Linear(in_features=50, out_features=5, bias=True)\n",
       "  (1): ReLU()\n",
       "  (2): Linear(in_features=5, out_features=1, bias=True)\n",
       "  (3): Sigmoid()\n",
       ")"
      ]
     },
     "execution_count": 19,
     "metadata": {},
     "output_type": "execute_result"
    }
   ],
   "source": [
    "model.cuda()"
   ]
  },
  {
   "cell_type": "code",
   "execution_count": 20,
   "metadata": {},
   "outputs": [],
   "source": [
    "# BCELoss is Binary Cross Entropy Loss\n",
    "criterion = torch.nn.BCELoss()\n",
    "optimizer = torch.optim.SGD(model.parameters(), lr=0.1)"
   ]
  },
  {
   "cell_type": "code",
   "execution_count": null,
   "metadata": {},
   "outputs": [
    {
     "name": "stderr",
     "output_type": "stream",
     "text": [
      "/home/samit/anaconda3/lib/python3.6/site-packages/torch/nn/functional.py:1594: UserWarning: Using a target size (torch.Size([8])) that is different to the input size (torch.Size([8, 1])) is deprecated. Please ensure they have the same size.\n",
      "  \"Please ensure they have the same size.\".format(target.size(), input.size()))\n"
     ]
    }
   ],
   "source": [
    "for epoch in range(2):\n",
    "    # Forward Propagation\n",
    "    for X,y in bernie_loader:\n",
    "        X = X.float()\n",
    "        X = X.cuda()\n",
    "        y = y.float()\n",
    "        y = y.cuda()\n",
    "        y_pred = model(X)\n",
    "        # Compute and print loss\n",
    "        loss = criterion(y_pred, y)\n",
    "       \n",
    "        # Zero the gradients\n",
    "        optimizer.zero_grad()\n",
    "    \n",
    "        # perform a backward pass (backpropagation)\n",
    "        loss.backward()\n",
    "    \n",
    "        # Update the parameters\n",
    "        optimizer.step()\n",
    "    print('epoch: ', epoch,' loss: ', loss.item())"
   ]
  },
  {
   "cell_type": "code",
   "execution_count": null,
   "metadata": {},
   "outputs": [],
   "source": [
    "def loss(y,yp):\n",
    "    return metrics.log_loss(y,ron(yp))\n",
    "\n",
    "def exo(cut,pca = 24,onTrain=0):\n",
    "    pca = PCA_transformed(pca)\n",
    "    X=pca.transform(cut[features])\n",
    "    if onTrain==2:\n",
    "        return X\n",
    "    y=cut['target_'+target]\n",
    "    if onTrain:\n",
    "        return X,y\n",
    "    yp=cut['pred']\n",
    "    return X,y,yp,loss(y,yp)"
   ]
  },
  {
   "cell_type": "code",
   "execution_count": null,
   "metadata": {},
   "outputs": [],
   "source": [
    "# Checking Validation error\n",
    "def eraLoss(frame,pred):\n",
    "    eras=frame['era'].unique()\n",
    "    frame['pred']=pred\n",
    "    li=[]\n",
    "    for era in eras:\n",
    "        X,y,yp,l=exo(frame[frame['era']==era])\n",
    "        li.append(l)\n",
    "    li=np.array(li)\n",
    "    X,y,yp,l=exo(frame,pca)\n",
    "    c=len(li[li<.693])*100/len(li)\n",
    "    print ('Loss:', l, '- at ',c,'%')\n",
    "    print ('-- -- '*8)\n",
    "    print()\n",
    "    return l, c"
   ]
  },
  {
   "cell_type": "code",
   "execution_count": null,
   "metadata": {},
   "outputs": [],
   "source": [
    "l,c=eraLoss(ship,yp,j['params'][\"pca\"])"
   ]
  },
  {
   "cell_type": "code",
   "execution_count": 2,
   "metadata": {},
   "outputs": [],
   "source": [
    "use_cuda = torch.cuda.is_available()"
   ]
  },
  {
   "cell_type": "code",
   "execution_count": null,
   "metadata": {},
   "outputs": [],
   "source": []
  }
 ],
 "metadata": {
  "kernelspec": {
   "display_name": "Python 3",
   "language": "python",
   "name": "python3"
  },
  "language_info": {
   "codemirror_mode": {
    "name": "ipython",
    "version": 3
   },
   "file_extension": ".py",
   "mimetype": "text/x-python",
   "name": "python",
   "nbconvert_exporter": "python",
   "pygments_lexer": "ipython3",
   "version": "3.6.5"
  },
  "varInspector": {
   "cols": {
    "lenName": 16,
    "lenType": 16,
    "lenVar": 40
   },
   "kernels_config": {
    "python": {
     "delete_cmd_postfix": "",
     "delete_cmd_prefix": "del ",
     "library": "var_list.py",
     "varRefreshCmd": "print(var_dic_list())"
    },
    "r": {
     "delete_cmd_postfix": ") ",
     "delete_cmd_prefix": "rm(",
     "library": "var_list.r",
     "varRefreshCmd": "cat(var_dic_list()) "
    }
   },
   "types_to_exclude": [
    "module",
    "function",
    "builtin_function_or_method",
    "instance",
    "_Feature"
   ],
   "window_display": false
  }
 },
 "nbformat": 4,
 "nbformat_minor": 2
}
